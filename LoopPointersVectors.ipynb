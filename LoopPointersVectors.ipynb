{
 "cells": [
  {
   "cell_type": "code",
   "execution_count": 2,
   "metadata": {},
   "outputs": [
    {
     "name": "stdout",
     "output_type": "stream",
     "text": [
      "V0:1\n",
      "V1:2\n",
      "V2:3\n",
      "V3:4\n",
      "Lista Final: [1, 2, 3, 4]\n",
      "A soma dos valores é 10\n",
      "2ª LISTA!\n",
      "V20:1\n",
      "V21:2\n",
      "V22:3\n",
      "V23:1\n",
      "Lista Final: [1, 2, 3, 1]\n",
      "A soma dos valores é 7\n",
      "A maior soma entre os dois é 10\n"
     ]
    }
   ],
   "source": [
    "def EncontrarMaiorSoma(soma1, soma2):\n",
    "    if soma1>soma2:\n",
    "        return soma1\n",
    "    elif soma2>soma1:\n",
    "        return soma2\n",
    "    else:\n",
    "        return 0\n",
    "\n",
    "soma=soma2=soma1=soma_2=0\n",
    "vet1=list()\n",
    "for count in range (0,4):\n",
    "  vet1.append(int(input(f'V{count}:')))\n",
    "  soma+=vet1[count]\n",
    "  soma1=soma\n",
    "print(f'Lista Final: {vet1}')\n",
    "print(f'A soma dos valores é {soma1}')\n",
    "\n",
    "print('2ª LISTA!')\n",
    "vet2=list()\n",
    "for count in range (0,4):\n",
    "  vet2.append(int(input(f'V2{count}:')))\n",
    "  soma_2+=vet2[count]\n",
    "  soma2=soma_2\n",
    "print(f'Lista Final: {vet2}')\n",
    "print(f'A soma dos valores é {soma2}')\n",
    "r=EncontrarMaiorSoma(soma1,soma2)\n",
    "if r!=0:\n",
    "    print(f'A maior soma entre os dois é {r}')\n",
    "else:\n",
    "    print(\"A soma entre as duas listas são iguais.\")"
   ]
  },
  {
   "cell_type": "code",
   "execution_count": null,
   "metadata": {},
   "outputs": [],
   "source": []
  }
 ],
 "metadata": {
  "kernelspec": {
   "display_name": "Python 3",
   "language": "python",
   "name": "python3"
  },
  "language_info": {
   "codemirror_mode": {
    "name": "ipython",
    "version": 3
   },
   "file_extension": ".py",
   "mimetype": "text/x-python",
   "name": "python",
   "nbconvert_exporter": "python",
   "pygments_lexer": "ipython3",
   "version": "3.6.5"
  }
 },
 "nbformat": 4,
 "nbformat_minor": 2
}
