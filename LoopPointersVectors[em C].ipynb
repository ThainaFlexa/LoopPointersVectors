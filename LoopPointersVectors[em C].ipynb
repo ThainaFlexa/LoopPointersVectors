{
 "cells": [
  {
   "cell_type": "code",
   "execution_count": 1,
   "metadata": {},
   "outputs": [
    {
     "ename": "SyntaxError",
     "evalue": "invalid syntax (<ipython-input-1-260695bab592>, line 4)",
     "output_type": "error",
     "traceback": [
      "\u001b[1;36m  File \u001b[1;32m\"<ipython-input-1-260695bab592>\"\u001b[1;36m, line \u001b[1;32m4\u001b[0m\n\u001b[1;33m    int EncontrarMaiorSoma(int *soma1, int *soma2){\u001b[0m\n\u001b[1;37m                         ^\u001b[0m\n\u001b[1;31mSyntaxError\u001b[0m\u001b[1;31m:\u001b[0m invalid syntax\n"
     ]
    }
   ],
   "source": [
    "#include<stdlib.h>\n",
    "#include<stdio.h>\n",
    "#include<locale.h>\n",
    "int EncontrarMaiorSoma(int *soma1, int *soma2){\n",
    "    if (*soma1>*soma2){\n",
    "        return *soma1;\n",
    "    }\n",
    "    else if (*soma2>*soma1){\n",
    "        return *soma2;\n",
    "    }\n",
    "    else{\n",
    "        return 0;\n",
    "    }\n",
    "}\n",
    "int main(){\n",
    "    setlocale(LC_ALL,\"Portuguese\");\n",
    "    int count,*p,v[4],*p2,v2[4],r;\n",
    "    int soma1=0;\n",
    "    int soma2=0;\n",
    "    p=v;\n",
    "    p2=v2;\n",
    "    for(count=0;count<4;count++){\n",
    "        printf(\"V1[%d]=\",count);\n",
    "        scanf(\"%d\",&*(p+count));\n",
    "        soma1+=v[count];\n",
    "    }\n",
    "    printf(\"Soma dos valores: %d\\n\",soma1);\n",
    "    printf(\"=============\\n\");\n",
    "    for(count=0;count<4;count++){\n",
    "        printf(\"V2[%d]=\",count);\n",
    "        scanf(\"%d\",&*(p2+count));\n",
    "        soma2+=v2[count];\n",
    "    }\n",
    "    printf(\"Soma dos valores: %d\\n\",soma2);\n",
    "    printf(\"=============\\n\");\n",
    "    r=EncontrarMaiorSoma(&soma1,&soma2);\n",
    "    if (r!=0)\n",
    "         printf(\"A maior soma entre os dois vetores é %d.\\n\",r);\n",
    "    else{\n",
    "        printf(\"A soma entre os dois vetores são iguais.\");\n",
    "    }\n",
    "}"
   ]
  },
  {
   "cell_type": "code",
   "execution_count": null,
   "metadata": {},
   "outputs": [],
   "source": []
  }
 ],
 "metadata": {
  "kernelspec": {
   "display_name": "Python 3",
   "language": "python",
   "name": "python3"
  },
  "language_info": {
   "codemirror_mode": {
    "name": "ipython",
    "version": 3
   },
   "file_extension": ".py",
   "mimetype": "text/x-python",
   "name": "python",
   "nbconvert_exporter": "python",
   "pygments_lexer": "ipython3",
   "version": "3.6.5"
  }
 },
 "nbformat": 4,
 "nbformat_minor": 2
}
